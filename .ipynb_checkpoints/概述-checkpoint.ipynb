{
 "cells": [
  {
   "cell_type": "markdown",
   "id": "bc0a95fe",
   "metadata": {},
   "source": [
    "数据可视化——来源《Python数据分析、挖掘与可视化》毋建军 姜波著\n",
    "\n",
    "随着计算机技术发展，可视化技术得到了飞速发展。现有的可视化技术主要运用计算机图形学和图像处理技术，将数据信息转化为图形图像在屏幕上显示出来，并进行交互处理的理论、方法和技术研究。数据可视化(Data visualization) 是一门研究数据视觉表现形式的学科，涉及数据可视化表示的创建和研究。为了清晰有效地传递信息，数据可视化与信息图形、信息可视化、科学可视化及统计图形等知识密不可分。例如，使用点、线或条对数字数据进行编码，以便在视觉上传达定量信息;使用表格、折线图或热图进行数据显示和数据交互;使用不同颜色创建具有视觉冲击力的区域以清晰和易于理解的方式总结关键业务。数据可视化使复杂的数据更容易理解和使用。<p>\n",
    "本书该章节首先介绍数据可视化的基本概念、重要性、数据可视化使用的主要库：Matplotlib。接着回顾了统计学的部分概念，并按照计量尺度的不同，将数据分为数值变量和分类变量分别进行单变量和多变量描述统计。具体描述统计方法归纳如下：<br>\n",
    "\n",
    "|相关性分析|图|表|\n",
    "|----------|--|--|\n",
    "|分类——分类|柱状图、饼图|交叉表（频数、比例）|\n",
    "|分类——数值|直方图、箱线图|三线表（集中趋势、离散程度、分布形状）|\n",
    "|数值——数值|散点图|相关系数表|\n",
    "\n",
    "后续结合案例介绍各种图表的概念和代码。\n",
    "\n",
    "\n",
    "\n",
    "广义线性回归——来源《广义线性模型导论》林毓玲 译\n",
    "\n",
    "广义线性模型,顾名思义,为经典线性回归模型的普遍化。经典线性回归模型假设因变量为一组自变量的线性方程,且因变量为连续且正态分布的,有固定的方差。自变量则可以是连续的、类别的或两者的组合。多元回归分析、方差分析及协方差分析皆为线性模型的经典例子。它们皆可被写成:\n",
    "$$y=\\beta_0+\\Sigma_{j=1}^p\\beta_jX_j+\\varepsilon$$\n",
    "\n",
    "其中$y$是连续性因变量,$X_j$是自变量,$\\varepsilon$为假设正态分布的误差。因变量由两部分组成:系统性(systematic)成分$\\beta_0+\\Sigma_{j=1}^p\\beta_jX_j$;误差成分$\\varepsilon$。\n",
    "\n",
    "这个线性回归模型自 19 世纪初步发展以来,对社会私学及其他科学特别有用。它很易于公式化,易于理解,并目回归系数易于利用普通最小二乘法估计。因此，它至今仍被广泛应用于各学科中。虽然它假设误差是正态分布的,但当误差接近于正态分布时,它仍是稳健的。<p>\n",
    "然而,在过去几十年中,人们已经广泛地意识到线性回归模型的局限。它假设因变量为连续或至少是准连续的,如考试成绩、个人特质测量等。而且,它假设该连续变量至少是接近于正态分布,并且其方差并不是其平均数的函数。内尔得和韦德伯恩(Nelder \\& Wedderburn，1972)提出了广义线性模型，后来发展为应用于非正态因变量的回归模型。<p>\n",
    "\n",
    "本章将从广义线性回归概念、statsmodels库、logistic回归、多类别logistic回归、泊松回归、负二项回归几方面来介绍广义线性回归模型。"
   ]
  },
  {
   "cell_type": "code",
   "execution_count": null,
   "id": "949ae8a3",
   "metadata": {},
   "outputs": [],
   "source": []
  }
 ],
 "metadata": {
  "kernelspec": {
   "display_name": "Python 3",
   "language": "python",
   "name": "python3"
  },
  "language_info": {
   "codemirror_mode": {
    "name": "ipython",
    "version": 3
   },
   "file_extension": ".py",
   "mimetype": "text/x-python",
   "name": "python",
   "nbconvert_exporter": "python",
   "pygments_lexer": "ipython3",
   "version": "3.6.5"
  },
  "toc": {
   "base_numbering": 1,
   "nav_menu": {},
   "number_sections": false,
   "sideBar": true,
   "skip_h1_title": false,
   "title_cell": "Table of Contents",
   "title_sidebar": "Contents",
   "toc_cell": false,
   "toc_position": {},
   "toc_section_display": true,
   "toc_window_display": false
  }
 },
 "nbformat": 4,
 "nbformat_minor": 5
}
