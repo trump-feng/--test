{
 "cells": [
  {
   "cell_type": "markdown",
   "id": "eb10e958",
   "metadata": {},
   "source": [
    "# 第八章 列联表分析 （配送与满意度分析）"
   ]
  },
  {
   "cell_type": "markdown",
   "id": "0d820b72",
   "metadata": {},
   "source": [
    "在进行网购的时候，商家会根据自身情况选择不同的物流公司进行配送，客户会根据自身的体验，对物流产生不同的满意度。物流公司和客户满意与否，这些都属于分类数据，如何判断分类数据是否有关，以及如何解释这些关系，需要在本章中进行列联表分析的相关学习。"
   ]
  },
  {
   "cell_type": "markdown",
   "id": "3aa8aee8",
   "metadata": {},
   "source": [
    "## 8.1 列联表分析的基本原理\n"
   ]
  },
  {
   "cell_type": "markdown",
   "id": "b34466cc",
   "metadata": {},
   "source": [
    "### 8.1.1 分类数据【2】\n",
    "在前面章节中曾提出过统计数据的类型有分类数据、顺序数据和数值型数据。分类数据是对事物进行分类的结果，其特征是，调查结果虽然用数值表示，但不同数值描述了调查对象的不同特征。<p>\n",
    "例如，在研究消费者对物流公司与配送满意度之间的关系时，物流公司是一个分类数据，可以分为A公司、B公司和C公司，如果调查结果为“1”（“2”或“3”），则表示消费者的快递由A（B或C）公司运输配送。同样的，消费者的满意度也可以分类，“满意”和“不满意”，分别用“1”和“2”表示。对这类问题的分析实在汇总数据的基础上进行的，数据汇总的结果表现为频数，如调查对象中，A公司配送32单，其中“满意”单数为21，“不满意”单数为11。"
   ]
  },
  {
   "cell_type": "markdown",
   "id": "181c7854",
   "metadata": {},
   "source": [
    "### 8.1.2 ${\\chi}^2$统计量【1，2】"
   ]
  },
  {
   "cell_type": "markdown",
   "id": "41b3e5f4",
   "metadata": {},
   "source": [
    "$\\chi^2$统计量是由英国统计学家K.Pearson 于1900年提出，因此，拟合优度检验也称为Pearson $\\chi^2$。这里结合本章研究的配送与满意度问题，讨论$\\chi^2$统计量的应用。$\\chi^2$可以用于测定两个分类变量之间的相关程度。若用$f_0$表示观察值频数（observed frequency），用$f_e$表示期望值频数（expected frequency），则$$统计量计算公式如下：\n",
    "\n",
    "$$\\chi^2=\\sum{\\frac{(f_0-f_e)^2}{f_e}}$$\n",
    "\n",
    "式中,统计量服从自由度为k-1的 $\\chi^2$分布，k为类别个数。"
   ]
  },
  {
   "cell_type": "markdown",
   "id": "1529a8af",
   "metadata": {},
   "source": [
    "$\\chi^2$统计量有如下特征：首先，$\\chi^2≥0$，因为它是对平方结果的汇总；其次，$\\chi^2$统计量的分布与自由度有关；最后，$\\chi^2$统计量描述了观察值与期望值的接近程度。两者越接近，即$f_0-f_e$的绝对值越小，计算出的$\\chi^2$值就越小；反之，$f_0-f_e$的绝对值越大，计算出的$\\chi^2$值也越大。$\\chi^2$检验正是通过对$\\chi^2$的计算结果与$\\chi^2$分布中的临界值进行比较，作出是否拒绝原假设的统计决策。<p>\n",
    "利用$\\chi^2$统计量，可以对分类数据进行拟合优度检验和独立性检验。"
   ]
  },
  {
   "cell_type": "markdown",
   "id": "c94e74eb",
   "metadata": {},
   "source": [
    "## 8.2 拟合优度检验【1，2】"
   ]
  },
  {
   "cell_type": "markdown",
   "id": "47dd40ae",
   "metadata": {},
   "source": [
    "拟合优度检验 (goodness of fit test)是用$\\chi^2$统计量进行统计显著性验的重要内容之一。它是依据总体分布状况，计算出分类变量中各类别的期望频数，与分布的观察频数进行对比，判断期望频数与观察频数是否有显著差异，从而达到对分类变量进行分析的目的。"
   ]
  },
  {
   "cell_type": "markdown",
   "id": "19881d1a",
   "metadata": {},
   "source": [
    "为了更好地理解拟合优度检验，我们先从一个例子开始。<p>\n",
    "**【例8-1】**<br>\n",
    "为研究消费者对负责配送的物流公司是否有明显偏好，一家调查公司随机调查了2000个消费者对4家物流公司的偏好情况，得到对不同公司的偏好数据如下所示：\n",
    "\n",
    "|    |物流公司| 人数 |\n",
    "|:---:| :---:  | :---:|\n",
    "|  1  | 公司A  |  525 |\n",
    "|  2  | 公司B  |  550 |\n",
    "|  3  | 公司C  |  470 |\n",
    "|  4  |  其他  |  455 |\n",
    "\n",
    "从例子可以看出，物流公司是一个分类型变量，共有四个类别（水平），每个类别的偏好人数称为观察频数(observed frequency)，即各类别中的实际频数。如果消费者对各物流公司没有明显偏好，即选择各类别的概率相等，也就是总人数除以类别数，即：2000/4=500，这就是各个类别的期望频数。\n",
    "调查者想分析消费者对不同物流公司的偏好是否有显著差异，实际上也就是检验观察频数与期望频数是否一致，因此也称为一致性检验(test of homogeneity)。"
   ]
  },
  {
   "cell_type": "markdown",
   "id": "82a83678",
   "metadata": {},
   "source": [
    "### 8.2.1 期望频数相等\n",
    "例子8-1的解题步骤如下：<p>\n",
    "**第一步：提出原假设**<br>\n",
    "假设<br>\n",
    "H0:观察频数与期望频数无显著差异(无显著偏好)<br>\n",
    "H1:观察频数与期望频数有显著差异(有显著偏好)<p>\n",
    "**第二步：计算$\\chi^2$统计量**<br>\n",
    "其计算过程如下所示：\n",
    "\n",
    "|物流公司|观察频数$f_0$|期望频数$f_e$|${(f_0-f_e)^2}/{f_e}$|\n",
    "|:---:|:---:|:---:|:---:|\n",
    "|公司A| 525 | 500 |1.25<div style=\"width: 80pt\">|\n",
    "|公司B| 550 | 500 |5.00|\n",
    "|公司C| 470 | 500 |1.80|\n",
    "|其他 | 455 | 500 |4.05|\n",
    "|合计 | 2000| 500 |12.10|\n",
    "\n",
    "**第三步：做出决策**<br>\n",
    "由于$\\chi^2$ = 12.10，自由度为4-1=3，根据Python函数计算P值为0.007048。由于P值<$\\alpha$，拒绝$H_0$，表明消费者对不同类型饮料的偏好有显著差异。<br>"
   ]
  },
  {
   "cell_type": "code",
   "execution_count": 3,
   "id": "7ec448d3",
   "metadata": {},
   "outputs": [
    {
     "name": "stdout",
     "output_type": "stream",
     "text": [
      "  物流公司   人数\n",
      "1  公司A  525\n",
      "2  公司B  550\n",
      "3  公司C  470\n",
      "4   其他  455\n",
      "  物流公司   人数  人数_期望\n",
      "1  公司A  525  500.0\n",
      "2  公司B  550  500.0\n",
      "3  公司C  470  500.0\n",
      "4   其他  455  500.0\n",
      "12.100000000000001 0.00704833637156134\n"
     ]
    }
   ],
   "source": [
    "import pandas as pd\n",
    "from pandas import set_option\n",
    "from scipy import stats\n",
    "\n",
    "#数据读入\n",
    "df = pd.read_excel(\"data.xlsx\",sheet_name = \"8-1\",index_col=0)\n",
    "print(df)\n",
    "\n",
    "df['人数_期望'] = sum(df['人数'])/len(df['人数'])\n",
    "print(df)\n",
    "\n",
    "res = stats.chisquare(df['人数'],ddof=0)\n",
    "print(res.statistic,res.pvalue)"
   ]
  },
  {
   "cell_type": "markdown",
   "id": "31295d26",
   "metadata": {},
   "source": [
    "【代码说明】\n",
    "scipy库：https://docs.scipy.org/doc/scipy/index.html<br>\n",
    "①scipy.stats.chisquare(f_obs, f_exp=None, ddof=0, axis=0)\n",
    "    \n",
    "**作用：**<br>\n",
    "计算单因素卡方检验\n",
    "\n",
    "**主要输入参数：**<br>\n",
    "* f_obs:每一类的观察频数，array_like类型。\n",
    "* f_exp:每一类的期望频数，默认频数相等，array_like类型。\n",
    "* ddof:delta自由度，p值使用自由度为k-1-ddof的卡方分布计算，其中k是观测频率的数量，ddof默认为0，int类型。\n",
    "\n",
    "**返回：**<br>\n",
    "* chisq:卡方检验统计量，float类型或ndarray类型。\n",
    "* p:检验的p值，float类型或ndarray类型。"
   ]
  },
  {
   "cell_type": "markdown",
   "id": "6161f5e5",
   "metadata": {},
   "source": [
    "### 8.2.2 期望频数不相等\n",
    "当各类别的期望不相等时，也可以进行拟合优度检验.<p>\n",
    "**【例8-2】**<br>\n",
    "通过一项市场调查发现，对配送的满意度与负责配送的物流公司有关。且由于经济发展程度及生活方式等因素的影响，不同地区也有差异。对北部地区不满意配送的消费者的样本进行，发现不同物流公司中不满意配送的消费者的比例如下，对南部地区不满意配送的消费者的调查，不同物流公司对应的不满意配送的消费者的分布情况也如下表：\n",
    "\n",
    "|物流公司|北部地区（%）|南部地区（频数）|\n",
    "| :---:  | :---: | :---: |\n",
    "| 公司A  |    20%    | 30 |\n",
    "| 公司B  |    35%    | 110 |\n",
    "| 公司C  |    25%    | 80 |\n",
    "| 公司D  |    12%    | 25 |\n",
    "| 公司E  |     8%    | 15 |\n",
    "|  合计  |    100%    | 260 |\n",
    "\n",
    "例8-2的解题步骤如下：<p>\n",
    "**第一步：提出原假设**<br>\n",
    "假设<br>\n",
    "$H_0$:不同受教育程度的离婚家庭数与期望频数无显著差异<br>\n",
    "$H_1$:不同受教育程度的离婚家庭数与期望频数有显著差异<p>\n",
    "**第二步：计算$\\chi^2$统计量**<br>\n",
    "其计算过程如下所示：\n",
    "\n",
    "|物流公司|北部地区（%）|南部地区（频数）|南部地区（期望频数$f_e$）|${(f_0-f_e)^2}/{f_e}$|\n",
    "| :---:  | :---: | :---: |:---:|:---:|\n",
    "| 公司A  |    20%    | 30 |20%\\*260=52|9.3077<div style=\"width: 80pt\">|\n",
    "| 公司B  |    35%    | 110 |35%\\*260=91|3.967|\n",
    "| 公司C  |    25%    | 80 |25%\\*260=65|3.4615|\n",
    "| 公司D  |    12%    | 25 |12%\\*260=31.2|1.2321|\n",
    "| 公司E  |     8%    | 15 |8%\\*260=20.8|1.6173|\n",
    "|  合计  |    100%    | 260 |260|19.5856|\n",
    "    \n",
    "**第三步：做出决策**<br>\n",
    "由于$\\chi^2=12.10$，自由度为4-1=3，根据R函数计算P值为0.007048。由于P值< $\\alpha$，拒绝$H_0$，表明消费者对不同类型饮料的偏好有显著差异。<br>"
   ]
  },
  {
   "cell_type": "code",
   "execution_count": 4,
   "id": "656d8e67",
   "metadata": {},
   "outputs": [
    {
     "name": "stdout",
     "output_type": "stream",
     "text": [
      "      北部地区（%）  南部地区（频数）\n",
      "物流公司                   \n",
      "公司A      0.20        30\n",
      "公司B      0.35       110\n",
      "公司C      0.25        80\n",
      "公司D      0.12        25\n",
      "公司E      0.08        15\n",
      "      北部地区（%）  南部地区（频数）  南部地区（期望频数）\n",
      "物流公司                               \n",
      "公司A      0.20        30        52.0\n",
      "公司B      0.35       110        91.0\n",
      "公司C      0.25        80        65.0\n",
      "公司D      0.12        25        31.2\n",
      "公司E      0.08        15        20.8\n",
      "19.58562271062271 0.0006027964032005588\n"
     ]
    }
   ],
   "source": [
    "import pandas as pd\n",
    "from pandas import set_option\n",
    "from scipy import stats\n",
    "\n",
    "#数据读入\n",
    "df = pd.read_excel(\"data.xlsx\",sheet_name = \"8-2\",index_col=0)\n",
    "print(df)\n",
    "\n",
    "df['南部地区（期望频数）']=sum(df['南部地区（频数）'])*df['北部地区（%）']\n",
    "print(df)\n",
    "\n",
    "res = stats.chisquare(df['南部地区（频数）'], df['南部地区（期望频数）'], ddof=0)\n",
    "print(res.statistic,res.pvalue)"
   ]
  },
  {
   "cell_type": "markdown",
   "id": "d54b01f4",
   "metadata": {},
   "source": [
    "## 8.3 列联表分析：独立性检验\n"
   ]
  },
  {
   "cell_type": "markdown",
   "id": "ec02f9c3",
   "metadata": {},
   "source": [
    "### 8.3.1 列联表与$\\chi^2$独立性检验\n",
    "对于两个类别变量的推断分析，主要是检验两个变量是否独立，这就是$\\chi_2$独立性检验(test of independence)。<p>\n",
    "如果研究的是两个变量，每个变量有多个类别，通常将两个变量多个类别的频数用交叉表的形式表示出来。<p>\n",
    "对列联表中的两个类别变量进行分析，通常是判断两个变量是否独立。该检验的原假设是两个变量独立(无关)，如果原假设被拒绝，则表明两个变量不独立，或者两个变量相关，其$\\chi^2$统计量如下：\n",
    "$$\\chi^2=\\sum{\\sum{\\frac{(f_0-f_e)^2}{f_e}}}$$\n",
    "式中，$f_0$为观察频数，$f_e$为期望频数，该统计量服从自由度为(r-1)(c-1)的$\\chi^2$分布，r为行数，c为列数。"
   ]
  },
  {
   "attachments": {
    "7-3-1.png": {
     "image/png": "[encoded data removed]"
    }
   },
   "cell_type": "markdown",
   "id": "f353e92a",
   "metadata": {},
   "source": [
    "**【例8-3】**<br>\n",
    "一家有自营物流的购物网站对本网站购物的客户做了一项调查，调查的客户来自东部、中部、西部三个地区，共500人。下表是对本购物网站物流配送的整体满意度评价结果。检验客户满意度与地区是否独立。($\\alpha$= 0.05)\n",
    "<table >\n",
    "    <tr>\n",
    "        <td  rowspan = \"2\" >满意度</td>\n",
    "        <td colspan = \"4\" align=\"center\">地区</td>\n",
    "    </tr>\n",
    "    <tr>\n",
    "        <td>东部</td>\n",
    "        <td>中部</td>\n",
    "        <td>西部</td>\n",
    "        <td>合计</td>\n",
    "    </tr>\n",
    "    <tr>\n",
    "        <td>满意</td>\n",
    "        <td>126</td>\n",
    "        <td>158</td>\n",
    "        <td>35</td>\n",
    "        <td>319</td>\n",
    "    </tr>\n",
    "    <tr>\n",
    "        <td>不满意</td>\n",
    "        <td>34</td>\n",
    "        <td>82</td>\n",
    "        <td>65</td>\n",
    "        <td>181</td>\n",
    "    </tr>\n",
    "    <tr>\n",
    "        <td>合计</td>\n",
    "        <td>160</td>\n",
    "        <td>240</td>\n",
    "        <td>100</td>\n",
    "        <td>500</td>\n",
    "    </tr>\n",
    "</table>\n",
    "\n",
    "例8-3的解题步骤如下：<p>\n",
    "**第一步：提出原假设**<br>\n",
    "$H_0$:满意度与地区独立(不相关)<br>\n",
    "$H_1$:满意度与地区不独立(相关)<p>\n",
    "**第二步：计算$\\chi^2$统计量**<br>\n",
    "要计算检验统计量，关键是计算出期望频数，如果两个变量是独立的，那么两个变量各类别交叉项的概率可以根据独立事件的概率乘法公式求得。<br>\n",
    "即：给定单元格所在行的合计频数为$RT$，所在列的合计频数为$CT$，任意给定单元格(比如第i行，第j列的单元格$r_ic_j$)的概率为：\n",
    "$$P(r_ic_j)=P(r_i)\\times P(c_j) = (\\frac{RT}{n})(\\frac{CT}{n})$$\n",
    "用上式子乘以观察频数(即样本量n)，可以得到任意单元格的期望频数为：\n",
    "$$f_e= (\\frac{RT}{n})(\\frac{CT}{n}) \\times n$$\n",
    "例如：$f_1 = (\\frac{319}{500})(\\frac{160}{500}) \\times 500 =102.08$\n",
    "\n",
    "**【图内数字错误，调整 东部-不满意=34】**\n",
    "![7-3-1.png](attachment:7-3-1.png)"
   ]
  },
  {
   "attachments": {
    "7-3-2.png": {
     "image/png": "[encoded data removed]"
    }
   },
   "cell_type": "markdown",
   "id": "5856cf99",
   "metadata": {},
   "source": [
    "计算完成后，结果如下：\n",
    "\n",
    "![7-3-2.png](attachment:7-3-2.png)\n",
    "\n",
    "计算每个单元的$(f_0-f_e)^2/f_e$,求和后得到$\\chi^2$统计量:\n",
    "$$\\chi^2=\\frac{(126-102.08)^2}{102.08}+...+\\frac{(65-36.20)^2}{36.20}=51.8266$$<p>\n",
    "**第三步：做出决策**<br>\n",
    "由于$\\chi^2=51.8266$，自由度为(2-1)*(3-1)=2，根据Python函数计算P值为5.572e-12。由于P值< $\\alpha=0.05$，拒绝$H_0$，认为满意度与地区不独立，或者说满意度与地区有关。<br>"
   ]
  },
  {
   "cell_type": "code",
   "execution_count": 5,
   "id": "9372b5b6",
   "metadata": {},
   "outputs": [
    {
     "name": "stdout",
     "output_type": "stream",
     "text": [
      "      东部   中部  西部\n",
      "满意   126  158  35\n",
      "不满意   34   82  65\n",
      "(51.82661055208206, 5.571787064349422e-12, 2, array([[102.08, 153.12,  63.8 ],\n",
      "       [ 57.92,  86.88,  36.2 ]]))\n"
     ]
    }
   ],
   "source": [
    "import pandas as pd\n",
    "from pandas import set_option\n",
    "import numpy as np\n",
    "#数据读入\n",
    "df = pd.read_excel(\"data.xlsx\",sheet_name = \"8-3\",index_col=0)\n",
    "print(df)\n",
    "from scipy.stats import chi2_contingency\n",
    "res = chi2_contingency(np.array(df))\n",
    "print(res)"
   ]
  },
  {
   "cell_type": "markdown",
   "id": "9632af91",
   "metadata": {},
   "source": [
    "【代码说明】\n",
    "scipy库：https://docs.scipy.org/doc/scipy/index.html<p>\n",
    "①scipy.stats.chi2_contingency(observed, correction=True, lambda_=None)\n",
    "    \n",
    "**作用：**<br>\n",
    "对列联表进行变量独立性的卡方检验。\n",
    "\n",
    "**主要输入参数：**<br>\n",
    "* observed:列联表，该表包含每个类别中观察到的频率（即出现次数），在二维情况下，该表通常被描述为“R×C表”。array_like类型。\n",
    "* correction:如果为 True，并且自由度为 1，则应用 Yates 校正以实现连续性。校正的效果是将每个观测值调整 0.5 以达到相应的期望值。bool类型。\n",
    "* lambda_:默认情况下，此检验中计算的统计量是Pearson's卡方统计量，lambda_允许使用来自Cressie-Read power divergence的统计数据.float类型或str类型。\n",
    "\n",
    "**返回：**<br>\n",
    "res: Chi2ContingencyResult类型。该实例包括以下：\n",
    "* statistic:检验统计量，float类型。\n",
    "* pvalue:检验的p值，float类型。\n",
    "* dof:自由度，int类型。\n",
    "* expected_freq:基于列联表的边际和的期望频数，和observed相同的ndarray类型"
   ]
  },
  {
   "cell_type": "markdown",
   "id": "8a4ebcb6",
   "metadata": {},
   "source": [
    "### 8.3.2 应用$\\chi^2$检验的注意事项\n",
    "在应用$\\chi^2$检验时，要求样本量应足够大，特别是每个单元格的期望频数不能太小，否则会得出错误的结论。<p>\n",
    "从$\\chi^2$统计量的形式$P(r_ic_j)=P(r_i)\\times P(c_j) = (\\frac{RT}{n})(\\frac{CT}{n})$可以看出，如果期望频数太小，则$\\chi^2$的值会较大，此时会导致拒绝原假设。因此：<p>\n",
    "* 如果仅有两个单元格，那么单元格的期望频数不能小于5<br>\n",
    "* 如果有两个以上的单元格，那么期望频数小于5的单元格数不能超过总数的20%\n"
   ]
  },
  {
   "cell_type": "markdown",
   "id": "77e4da74",
   "metadata": {},
   "source": [
    "**【 chi_square test 卡方独立性检验，（先交叉表-独立性，拟合优度检验-先频数表）cross table】**"
   ]
  },
  {
   "cell_type": "markdown",
   "id": "531928ba",
   "metadata": {},
   "source": [
    "## 8.4 分类变量的相关性"
   ]
  },
  {
   "cell_type": "markdown",
   "id": "d2e44d12",
   "metadata": {},
   "source": [
    "### 8.4.1 $\\phi$ 系数**和Cramer's V 系数\n",
    "如果$\\chi^2$独立性检验拒绝了原假设，则变量两个类别变量不独立，此时意味着其存在一定的相关性，那么如何度量相关行呢？可以用:$\\phi$系数($\\phi$ coefficient)，Crammer's V系数(Cramer's V coefficient)，列联系数(contingency coefficient)等进行度量。"
   ]
  },
  {
   "cell_type": "markdown",
   "id": "6d8eaf6a",
   "metadata": {},
   "source": [
    "**（1）$\\phi$ 系数**\n",
    "$$\\phi=\\sqrt{\\frac{\\chi^2}{n}}$$\n",
    "式中，$\\chi^2$是按照公式(2)计算的$\\chi^2$值，n为列联表的总频数，即样本量。<p>\n",
    "对于$2\\times2$的列联表，$\\phi$的取值在0-1之间，$\\phi$值越接近1，表示两个变量的相关性越强；越接近0则越弱。<br>\n",
    "对于行或列数大于2时，$\\phi$会随着行列数的增进而变大，且没有边界，这时$\\phi$的含义不易解释。<p>\n",
    "根据例8-3的计算结果，得到满意度与地区之间的$\\phi$系数为：\n",
    "$$\\phi=\\sqrt{\\frac{\\chi^2}{n}}=\\sqrt{\\frac{51.8266}{500}}=0.321952$$\n",
    "\n",
    "可见，满意度与地区之间的相关系数为0.321952，表示二者之间有一定的关系。\n",
    "\n",
    "**（2）Cramer's V 系数**\n",
    "$$V=\\sqrt{\\frac{\\chi^2}{n\\times min[(r-1),(c-1)]}}$$\n",
    "式中，$\\chi^2$是按照公式(2)计算的$\\chi^2$值，n为列联表的总频数，即样本量；r是行数，c是列数，min[(r-1),(c-1)]表示(r-1)和(c-1)中较小的一个。<p>\n",
    "Cramer's V的取值在(0，1)之间。Cramer's V值越接近1，表示两个变量的相关性越强；Cramer's V值越接近0，则越弱。如果行或列数其中一个为2，Cramer's V系数的值就等于$\\phi$的值。<p>\n",
    "根据例8-3的计算结果，得到满意度与地区之间的Cramer's V系数为：\n",
    "$$V=\\sqrt{\\frac{\\chi^2}{n\\times min[(r-1),(c-1)]}}\n",
    "\t=\\sqrt{\\frac{51.8266}{500\\times 1}} = 0.321952$$<br>\n",
    "结果与$\\phi$ 系数一致。"
   ]
  },
  {
   "cell_type": "markdown",
   "id": "f4b7a337",
   "metadata": {},
   "source": [
    "### 8.4.2 列联系数\n",
    "列联系数主要用于大于2×2列联表的相关性度量，用C表示，计算公式如下：\n",
    "\n",
    "$$C=\\sqrt{\\frac{\\chi^2}{\\chi^2+n}}$$\n",
    "\n",
    "从公式可以看出，列联系数不可能大于1或等于1。当两个变量独立时，C=0，但即使两个变量完全相关，列联表系数不可能等于1。因此列联表系数解释也存在不足之处。"
   ]
  },
  {
   "cell_type": "markdown",
   "id": "c98445b6",
   "metadata": {},
   "source": [
    "根据例8-3的计算结果，得到满意度与地区之间的C系数为：\n",
    "\n",
    "$$$C=\\sqrt{\\frac{51.8266}{51.8266+500}}=0.306461$$\n",
    "\n",
    "与前两个系数的结果相似，都显示满意度与地区之间存在一定的相关性。"
   ]
  }
 ],
 "metadata": {
  "kernelspec": {
   "display_name": "Python 3 (ipykernel)",
   "language": "python",
   "name": "python3"
  },
  "language_info": {
   "codemirror_mode": {
    "name": "ipython",
    "version": 3
   },
   "file_extension": ".py",
   "mimetype": "text/x-python",
   "name": "python",
   "nbconvert_exporter": "python",
   "pygments_lexer": "ipython3",
   "version": "3.9.7"
  },
  "toc": {
   "base_numbering": 1,
   "nav_menu": {},
   "number_sections": false,
   "sideBar": true,
   "skip_h1_title": false,
   "title_cell": "Table of Contents",
   "title_sidebar": "Contents",
   "toc_cell": false,
   "toc_position": {
    "height": "calc(100% - 180px)",
    "left": "10px",
    "top": "150px",
    "width": "202.512px"
   },
   "toc_section_display": true,
   "toc_window_display": true
  }
 },
 "nbformat": 4,
 "nbformat_minor": 5
}
